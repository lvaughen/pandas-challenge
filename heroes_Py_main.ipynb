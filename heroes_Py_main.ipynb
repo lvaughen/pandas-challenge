{
 "cells": [
  {
   "cell_type": "code",
   "execution_count": 1,
   "metadata": {},
   "outputs": [],
   "source": [
    "# import the necessary functions for analysis\n",
    "import pandas as pd\n",
    "import os\n",
    "import csv\n"
   ]
  },
  {
   "cell_type": "code",
   "execution_count": 2,
   "metadata": {},
   "outputs": [],
   "source": [
    "# define the path for the data\n",
    "game_path = \"Resources/purchase_data.csv\"\n"
   ]
  },
  {
   "cell_type": "code",
   "execution_count": 3,
   "metadata": {},
   "outputs": [
    {
     "data": {
      "text/html": [
       "<div>\n",
       "<style scoped>\n",
       "    .dataframe tbody tr th:only-of-type {\n",
       "        vertical-align: middle;\n",
       "    }\n",
       "\n",
       "    .dataframe tbody tr th {\n",
       "        vertical-align: top;\n",
       "    }\n",
       "\n",
       "    .dataframe thead th {\n",
       "        text-align: right;\n",
       "    }\n",
       "</style>\n",
       "<table border=\"1\" class=\"dataframe\">\n",
       "  <thead>\n",
       "    <tr style=\"text-align: right;\">\n",
       "      <th></th>\n",
       "      <th>Purchase ID</th>\n",
       "      <th>SN</th>\n",
       "      <th>Age</th>\n",
       "      <th>Gender</th>\n",
       "      <th>Item ID</th>\n",
       "      <th>Item Name</th>\n",
       "      <th>Price</th>\n",
       "    </tr>\n",
       "  </thead>\n",
       "  <tbody>\n",
       "    <tr>\n",
       "      <th>0</th>\n",
       "      <td>0</td>\n",
       "      <td>Lisim78</td>\n",
       "      <td>20</td>\n",
       "      <td>Male</td>\n",
       "      <td>108</td>\n",
       "      <td>Extraction, Quickblade Of Trembling Hands</td>\n",
       "      <td>3.53</td>\n",
       "    </tr>\n",
       "    <tr>\n",
       "      <th>1</th>\n",
       "      <td>1</td>\n",
       "      <td>Lisovynya38</td>\n",
       "      <td>40</td>\n",
       "      <td>Male</td>\n",
       "      <td>143</td>\n",
       "      <td>Frenzied Scimitar</td>\n",
       "      <td>1.56</td>\n",
       "    </tr>\n",
       "    <tr>\n",
       "      <th>2</th>\n",
       "      <td>2</td>\n",
       "      <td>Ithergue48</td>\n",
       "      <td>24</td>\n",
       "      <td>Male</td>\n",
       "      <td>92</td>\n",
       "      <td>Final Critic</td>\n",
       "      <td>4.88</td>\n",
       "    </tr>\n",
       "    <tr>\n",
       "      <th>3</th>\n",
       "      <td>3</td>\n",
       "      <td>Chamassasya86</td>\n",
       "      <td>24</td>\n",
       "      <td>Male</td>\n",
       "      <td>100</td>\n",
       "      <td>Blindscythe</td>\n",
       "      <td>3.27</td>\n",
       "    </tr>\n",
       "    <tr>\n",
       "      <th>4</th>\n",
       "      <td>4</td>\n",
       "      <td>Iskosia90</td>\n",
       "      <td>23</td>\n",
       "      <td>Male</td>\n",
       "      <td>131</td>\n",
       "      <td>Fury</td>\n",
       "      <td>1.44</td>\n",
       "    </tr>\n",
       "  </tbody>\n",
       "</table>\n",
       "</div>"
      ],
      "text/plain": [
       "   Purchase ID             SN  Age Gender  Item ID  \\\n",
       "0            0        Lisim78   20   Male      108   \n",
       "1            1    Lisovynya38   40   Male      143   \n",
       "2            2     Ithergue48   24   Male       92   \n",
       "3            3  Chamassasya86   24   Male      100   \n",
       "4            4      Iskosia90   23   Male      131   \n",
       "\n",
       "                                   Item Name  Price  \n",
       "0  Extraction, Quickblade Of Trembling Hands   3.53  \n",
       "1                          Frenzied Scimitar   1.56  \n",
       "2                               Final Critic   4.88  \n",
       "3                                Blindscythe   3.27  \n",
       "4                                       Fury   1.44  "
      ]
     },
     "execution_count": 3,
     "metadata": {},
     "output_type": "execute_result"
    }
   ],
   "source": [
    "# read with pandas\n",
    "game_df = pd.read_csv(game_path)\n",
    "game_df.head()"
   ]
  },
  {
   "cell_type": "code",
   "execution_count": 4,
   "metadata": {},
   "outputs": [
    {
     "data": {
      "text/html": [
       "<div>\n",
       "<style scoped>\n",
       "    .dataframe tbody tr th:only-of-type {\n",
       "        vertical-align: middle;\n",
       "    }\n",
       "\n",
       "    .dataframe tbody tr th {\n",
       "        vertical-align: top;\n",
       "    }\n",
       "\n",
       "    .dataframe thead th {\n",
       "        text-align: right;\n",
       "    }\n",
       "</style>\n",
       "<table border=\"1\" class=\"dataframe\">\n",
       "  <thead>\n",
       "    <tr style=\"text-align: right;\">\n",
       "      <th></th>\n",
       "      <th>Purchase ID</th>\n",
       "      <th>Age</th>\n",
       "      <th>Item ID</th>\n",
       "      <th>Price</th>\n",
       "    </tr>\n",
       "  </thead>\n",
       "  <tbody>\n",
       "    <tr>\n",
       "      <th>count</th>\n",
       "      <td>780.000000</td>\n",
       "      <td>780.000000</td>\n",
       "      <td>780.000000</td>\n",
       "      <td>780.000000</td>\n",
       "    </tr>\n",
       "    <tr>\n",
       "      <th>mean</th>\n",
       "      <td>389.500000</td>\n",
       "      <td>22.714103</td>\n",
       "      <td>91.755128</td>\n",
       "      <td>3.050987</td>\n",
       "    </tr>\n",
       "    <tr>\n",
       "      <th>std</th>\n",
       "      <td>225.310896</td>\n",
       "      <td>6.659444</td>\n",
       "      <td>52.697702</td>\n",
       "      <td>1.169549</td>\n",
       "    </tr>\n",
       "    <tr>\n",
       "      <th>min</th>\n",
       "      <td>0.000000</td>\n",
       "      <td>7.000000</td>\n",
       "      <td>0.000000</td>\n",
       "      <td>1.000000</td>\n",
       "    </tr>\n",
       "    <tr>\n",
       "      <th>25%</th>\n",
       "      <td>194.750000</td>\n",
       "      <td>20.000000</td>\n",
       "      <td>47.750000</td>\n",
       "      <td>1.980000</td>\n",
       "    </tr>\n",
       "    <tr>\n",
       "      <th>50%</th>\n",
       "      <td>389.500000</td>\n",
       "      <td>22.000000</td>\n",
       "      <td>92.000000</td>\n",
       "      <td>3.150000</td>\n",
       "    </tr>\n",
       "    <tr>\n",
       "      <th>75%</th>\n",
       "      <td>584.250000</td>\n",
       "      <td>25.000000</td>\n",
       "      <td>138.000000</td>\n",
       "      <td>4.080000</td>\n",
       "    </tr>\n",
       "    <tr>\n",
       "      <th>max</th>\n",
       "      <td>779.000000</td>\n",
       "      <td>45.000000</td>\n",
       "      <td>183.000000</td>\n",
       "      <td>4.990000</td>\n",
       "    </tr>\n",
       "  </tbody>\n",
       "</table>\n",
       "</div>"
      ],
      "text/plain": [
       "       Purchase ID         Age     Item ID       Price\n",
       "count   780.000000  780.000000  780.000000  780.000000\n",
       "mean    389.500000   22.714103   91.755128    3.050987\n",
       "std     225.310896    6.659444   52.697702    1.169549\n",
       "min       0.000000    7.000000    0.000000    1.000000\n",
       "25%     194.750000   20.000000   47.750000    1.980000\n",
       "50%     389.500000   22.000000   92.000000    3.150000\n",
       "75%     584.250000   25.000000  138.000000    4.080000\n",
       "max     779.000000   45.000000  183.000000    4.990000"
      ]
     },
     "execution_count": 4,
     "metadata": {},
     "output_type": "execute_result"
    }
   ],
   "source": [
    "# understand game data\n",
    "game_df.describe()"
   ]
  },
  {
   "cell_type": "code",
   "execution_count": 5,
   "metadata": {},
   "outputs": [],
   "source": [
    "unique_players_df = game_df['SN'].value_counts()\n",
    "\n",
    "\n"
   ]
  },
  {
   "cell_type": "code",
   "execution_count": 6,
   "metadata": {},
   "outputs": [
    {
     "data": {
      "text/plain": [
       "576"
      ]
     },
     "execution_count": 6,
     "metadata": {},
     "output_type": "execute_result"
    }
   ],
   "source": [
    "# of players that have purchased\n",
    "player_count = len(unique_players_df)\n",
    "player_count\n"
   ]
  },
  {
   "cell_type": "code",
   "execution_count": 7,
   "metadata": {},
   "outputs": [
    {
     "data": {
      "text/plain": [
       "179"
      ]
     },
     "execution_count": 7,
     "metadata": {},
     "output_type": "execute_result"
    }
   ],
   "source": [
    "# purchasing analysis (total)- number of unique Items\n",
    "\n",
    "items_df = game_df['Item ID'].value_counts()\n",
    "unique_items= len(items_df)\n",
    "unique_items"
   ]
  },
  {
   "cell_type": "code",
   "execution_count": 8,
   "metadata": {},
   "outputs": [
    {
     "name": "stdout",
     "output_type": "stream",
     "text": [
      "3.05\n"
     ]
    }
   ],
   "source": [
    "# purchasing analysis (total)- average purchase price\n",
    "\n",
    "ave_price = game_df['Price'].mean()\n",
    "\n",
    "#format price to 2 decimals\n",
    "ave_price_fm = \"{:.2f}\".format(ave_price)\n",
    "print(ave_price_fm)"
   ]
  },
  {
   "cell_type": "code",
   "execution_count": 9,
   "metadata": {},
   "outputs": [
    {
     "data": {
      "text/plain": [
       "780"
      ]
     },
     "execution_count": 9,
     "metadata": {},
     "output_type": "execute_result"
    }
   ],
   "source": [
    "# purchasing analysis (total)- total number of purchases\n",
    "\n",
    "total_purchase = len(game_df['Purchase ID'])\n",
    "total_purchase"
   ]
  },
  {
   "cell_type": "code",
   "execution_count": 10,
   "metadata": {},
   "outputs": [
    {
     "data": {
      "text/plain": [
       "'2,379.77'"
      ]
     },
     "execution_count": 10,
     "metadata": {},
     "output_type": "execute_result"
    }
   ],
   "source": [
    "# total revenues\n",
    "total_revenue = game_df['Price'].sum()\n",
    "#format total revenue\n",
    "total_revenue_fm = \"{:,.2f}\".format(total_revenue)\n",
    "total_revenue_fm"
   ]
  },
  {
   "cell_type": "code",
   "execution_count": 11,
   "metadata": {},
   "outputs": [
    {
     "name": "stdout",
     "output_type": "stream",
     "text": [
      "\n",
      "Total number of players: 576\n",
      "\n",
      "Number of unique items: 179\n",
      "Average purchase price: $3.05 \n",
      "Total number of purchases: 780  \n",
      "Total revenue: $2,379.77\n",
      "\n"
     ]
    }
   ],
   "source": [
    "#purchasing analysis summary (player count, first summary data)\n",
    "purch_anal= f\"\"\"\n",
    "Total number of players: {player_count}\n",
    "\n",
    "Number of unique items: {unique_items}\n",
    "Average purchase price: ${ave_price_fm} \n",
    "Total number of purchases: {total_purchase}  \n",
    "Total revenue: ${total_revenue_fm}\n",
    "\"\"\"\n",
    "          \n",
    "print(purch_anal)"
   ]
  },
  {
   "cell_type": "code",
   "execution_count": 12,
   "metadata": {},
   "outputs": [
    {
     "data": {
      "text/plain": [
       "484"
      ]
     },
     "execution_count": 12,
     "metadata": {},
     "output_type": "execute_result"
    }
   ],
   "source": [
    "# gender demos: Count of unique male\n",
    "\n",
    "male_players_df= game_df.loc[game_df['Gender']==\"Male\",[\"SN\"]]\n",
    "male_players_df.head()\n",
    "uniq_male_df = male_players_df.value_counts()\n",
    "tot_males = len(uniq_male_df)\n",
    "tot_males\n"
   ]
  },
  {
   "cell_type": "code",
   "execution_count": 13,
   "metadata": {},
   "outputs": [
    {
     "name": "stdout",
     "output_type": "stream",
     "text": [
      "84%\n"
     ]
    }
   ],
   "source": [
    "# gender demos: % of males\n",
    "perc_males =float(tot_males/player_count)\n",
    "\n",
    "perc_males_fm = print(f\"{int(perc_males*100)}%\")\n",
    "perc_males_fm"
   ]
  },
  {
   "cell_type": "code",
   "execution_count": 14,
   "metadata": {},
   "outputs": [
    {
     "data": {
      "text/plain": [
       "81"
      ]
     },
     "execution_count": 14,
     "metadata": {},
     "output_type": "execute_result"
    }
   ],
   "source": [
    "# gender demos: Count of unique females\n",
    "\n",
    "female_players_df= game_df.loc[game_df['Gender']==\"Female\",[\"SN\"]]\n",
    "female_players_df.head()\n",
    "uniq_fem_df = female_players_df.value_counts()\n",
    "tot_females = len(uniq_fem_df)\n",
    "tot_females"
   ]
  },
  {
   "cell_type": "code",
   "execution_count": 15,
   "metadata": {},
   "outputs": [
    {
     "name": "stdout",
     "output_type": "stream",
     "text": [
      "14%\n"
     ]
    }
   ],
   "source": [
    "# gender demos: % of females\n",
    "perc_females =float(tot_females/player_count)\n",
    "\n",
    "\n",
    "perc_females_fm = print(f\"{int(perc_females*100)}%\")\n",
    "perc_females_fm"
   ]
  },
  {
   "cell_type": "code",
   "execution_count": 16,
   "metadata": {},
   "outputs": [
    {
     "data": {
      "text/plain": [
       "11"
      ]
     },
     "execution_count": 16,
     "metadata": {},
     "output_type": "execute_result"
    }
   ],
   "source": [
    "# gender demos: Count of unique other\n",
    "\n",
    "other_players_df= game_df.loc[game_df['Gender']==\"Other / Non-Disclosed\",[\"SN\"]]\n",
    "other_players_df.head()\n",
    "uniq_other_df = other_players_df.value_counts()\n",
    "tot_other = len(uniq_other_df)\n",
    "tot_other"
   ]
  },
  {
   "cell_type": "code",
   "execution_count": 17,
   "metadata": {},
   "outputs": [
    {
     "name": "stdout",
     "output_type": "stream",
     "text": [
      "1%\n"
     ]
    },
    {
     "data": {
      "text/plain": [
       "(11, None)"
      ]
     },
     "execution_count": 17,
     "metadata": {},
     "output_type": "execute_result"
    }
   ],
   "source": [
    "# gender demos: count of other\n",
    "unique_tot_other = player_count - tot_females - tot_males\n",
    "unique_perc_other = 1 - perc_females - perc_males\n",
    "\n",
    "unique_perc_fm = print(f\"{int(unique_perc_other*100)}%\")\n",
    "\n",
    "\n",
    "unique_tot_other, unique_perc_fm"
   ]
  },
  {
   "cell_type": "code",
   "execution_count": 18,
   "metadata": {},
   "outputs": [],
   "source": [
    "# purchase analysis - group by gender\n",
    "gender_groups = game_df.groupby(['Gender'])\n",
    "gender_grp_df = gender_groups.sum()\n",
    "\n"
   ]
  },
  {
   "cell_type": "code",
   "execution_count": 19,
   "metadata": {},
   "outputs": [
    {
     "data": {
      "text/plain": [
       "361.93999999999966"
      ]
     },
     "execution_count": 19,
     "metadata": {},
     "output_type": "execute_result"
    }
   ],
   "source": [
    "#purchase revenue female\n",
    "tot_female_val = gender_grp_df.loc[\"Female\", \"Price\"]\n",
    "tot_female_val\n"
   ]
  },
  {
   "cell_type": "code",
   "execution_count": 20,
   "metadata": {},
   "outputs": [
    {
     "data": {
      "text/plain": [
       "113"
      ]
     },
     "execution_count": 20,
     "metadata": {},
     "output_type": "execute_result"
    }
   ],
   "source": [
    "#purchase count female\n",
    "tot_female_purcnt = len(female_players_df)\n",
    "tot_female_purcnt\n",
    "\n"
   ]
  },
  {
   "cell_type": "code",
   "execution_count": 21,
   "metadata": {},
   "outputs": [
    {
     "data": {
      "text/plain": [
       "3.203008849557519"
      ]
     },
     "execution_count": 21,
     "metadata": {},
     "output_type": "execute_result"
    }
   ],
   "source": [
    "#purchase aver price female\n",
    "ave_price_female = tot_female_val / tot_female_purcnt\n",
    "ave_price_female"
   ]
  },
  {
   "cell_type": "code",
   "execution_count": 22,
   "metadata": {},
   "outputs": [
    {
     "data": {
      "text/plain": [
       "4.4683950617283905"
      ]
     },
     "execution_count": 22,
     "metadata": {},
     "output_type": "execute_result"
    }
   ],
   "source": [
    "#ave purchase total per person by gender (female)\n",
    "ave_purchase_tot_fem = tot_female_val / tot_females\n",
    "ave_purchase_tot_fem"
   ]
  },
  {
   "cell_type": "code",
   "execution_count": 23,
   "metadata": {},
   "outputs": [
    {
     "data": {
      "text/plain": [
       "1967.6399999999994"
      ]
     },
     "execution_count": 23,
     "metadata": {},
     "output_type": "execute_result"
    }
   ],
   "source": [
    "#purchase revenue male\n",
    "tot_male_val = gender_grp_df.loc[\"Male\", \"Price\"]\n",
    "tot_male_val\n"
   ]
  },
  {
   "cell_type": "code",
   "execution_count": 24,
   "metadata": {},
   "outputs": [
    {
     "data": {
      "text/plain": [
       "652"
      ]
     },
     "execution_count": 24,
     "metadata": {},
     "output_type": "execute_result"
    }
   ],
   "source": [
    "#purchase count male\n",
    "tot_male_purcnt = len(male_players_df)\n",
    "tot_male_purcnt\n",
    "\n"
   ]
  },
  {
   "cell_type": "code",
   "execution_count": 25,
   "metadata": {},
   "outputs": [
    {
     "data": {
      "text/plain": [
       "3.0178527607361953"
      ]
     },
     "execution_count": 25,
     "metadata": {},
     "output_type": "execute_result"
    }
   ],
   "source": [
    "#purchase aver price male\n",
    "ave_price_male = tot_male_val / tot_male_purcnt\n",
    "ave_price_male"
   ]
  },
  {
   "cell_type": "code",
   "execution_count": 26,
   "metadata": {},
   "outputs": [
    {
     "data": {
      "text/plain": [
       "4.065371900826445"
      ]
     },
     "execution_count": 26,
     "metadata": {},
     "output_type": "execute_result"
    }
   ],
   "source": [
    "#ave purchase total per person by gender (male)\n",
    "ave_purchase_tot_mal = tot_male_val / tot_males\n",
    "ave_purchase_tot_mal"
   ]
  },
  {
   "cell_type": "code",
   "execution_count": 27,
   "metadata": {},
   "outputs": [
    {
     "data": {
      "text/plain": [
       "50.190000000000005"
      ]
     },
     "execution_count": 27,
     "metadata": {},
     "output_type": "execute_result"
    }
   ],
   "source": [
    "#purchase revenue other\n",
    "tot_other_val = gender_grp_df.loc[\"Other / Non-Disclosed\", \"Price\"]\n",
    "tot_other_val"
   ]
  },
  {
   "cell_type": "code",
   "execution_count": 28,
   "metadata": {},
   "outputs": [
    {
     "data": {
      "text/plain": [
       "15"
      ]
     },
     "execution_count": 28,
     "metadata": {},
     "output_type": "execute_result"
    }
   ],
   "source": [
    "#purchase count other\n",
    "tot_other_purcnt = len(other_players_df)\n",
    "tot_other_purcnt\n",
    "\n"
   ]
  },
  {
   "cell_type": "code",
   "execution_count": 29,
   "metadata": {},
   "outputs": [
    {
     "data": {
      "text/plain": [
       "3.3460000000000005"
      ]
     },
     "execution_count": 29,
     "metadata": {},
     "output_type": "execute_result"
    }
   ],
   "source": [
    "#purchase aver price other\n",
    "ave_price_other = tot_other_val / tot_other_purcnt\n",
    "ave_price_other"
   ]
  },
  {
   "cell_type": "code",
   "execution_count": 30,
   "metadata": {},
   "outputs": [
    {
     "data": {
      "text/plain": [
       "4.562727272727273"
      ]
     },
     "execution_count": 30,
     "metadata": {},
     "output_type": "execute_result"
    }
   ],
   "source": [
    "#ave purchase total per person by gender (Other)\n",
    "ave_purchase_tot_other = tot_other_val / unique_tot_other \n",
    "ave_purchase_tot_other"
   ]
  },
  {
   "cell_type": "code",
   "execution_count": 31,
   "metadata": {},
   "outputs": [
    {
     "data": {
      "text/plain": [
       "81"
      ]
     },
     "execution_count": 31,
     "metadata": {},
     "output_type": "execute_result"
    }
   ],
   "source": [
    "# gender demos: Count of unique females\n",
    "\n",
    "female_players_df= game_df.loc[game_df['Gender']==\"Female\",[\"SN\"]]\n",
    "female_players_df.head()\n",
    "uniq_fem_df = female_players_df.value_counts()\n",
    "tot_females = len(uniq_fem_df)\n",
    "tot_females"
   ]
  },
  {
   "cell_type": "code",
   "execution_count": 32,
   "metadata": {},
   "outputs": [
    {
     "data": {
      "text/plain": [
       "{'Gender': ['Male', 'Female', 'Other'],\n",
       " 'Count': [484, 81, 11],\n",
       " 'Percent of whole': [0.8402777777777778, 0.140625, 0.01909722222222221]}"
      ]
     },
     "execution_count": 32,
     "metadata": {},
     "output_type": "execute_result"
    }
   ],
   "source": [
    "# Gender demographics data table\n",
    "gender_dicts = {\n",
    "        \"Gender\" : [\"Male\", \"Female\", \"Other\"],\n",
    "        \"Count\"  : [tot_males, tot_females, tot_other],\n",
    "        \"Percent of whole\" : [perc_males, perc_females, unique_perc_other]   \n",
    "    } \n",
    "\n",
    "gender_dicts"
   ]
  },
  {
   "cell_type": "code",
   "execution_count": 33,
   "metadata": {},
   "outputs": [
    {
     "data": {
      "text/html": [
       "<style  type=\"text/css\" >\n",
       "</style><table id=\"T_e188bf80_0022_11eb_8660_14f6d870f539\" ><thead>    <tr>        <th class=\"blank level0\" ></th>        <th class=\"col_heading level0 col0\" >Count</th>        <th class=\"col_heading level0 col1\" >Percent of whole</th>    </tr>    <tr>        <th class=\"index_name level0\" >Gender</th>        <th class=\"blank\" ></th>        <th class=\"blank\" ></th>    </tr></thead><tbody>\n",
       "                <tr>\n",
       "                        <th id=\"T_e188bf80_0022_11eb_8660_14f6d870f539level0_row0\" class=\"row_heading level0 row0\" >Male</th>\n",
       "                        <td id=\"T_e188bf80_0022_11eb_8660_14f6d870f539row0_col0\" class=\"data row0 col0\" >484</td>\n",
       "                        <td id=\"T_e188bf80_0022_11eb_8660_14f6d870f539row0_col1\" class=\"data row0 col1\" >84.03%</td>\n",
       "            </tr>\n",
       "            <tr>\n",
       "                        <th id=\"T_e188bf80_0022_11eb_8660_14f6d870f539level0_row1\" class=\"row_heading level0 row1\" >Female</th>\n",
       "                        <td id=\"T_e188bf80_0022_11eb_8660_14f6d870f539row1_col0\" class=\"data row1 col0\" >81</td>\n",
       "                        <td id=\"T_e188bf80_0022_11eb_8660_14f6d870f539row1_col1\" class=\"data row1 col1\" >14.06%</td>\n",
       "            </tr>\n",
       "            <tr>\n",
       "                        <th id=\"T_e188bf80_0022_11eb_8660_14f6d870f539level0_row2\" class=\"row_heading level0 row2\" >Other</th>\n",
       "                        <td id=\"T_e188bf80_0022_11eb_8660_14f6d870f539row2_col0\" class=\"data row2 col0\" >11</td>\n",
       "                        <td id=\"T_e188bf80_0022_11eb_8660_14f6d870f539row2_col1\" class=\"data row2 col1\" >1.91%</td>\n",
       "            </tr>\n",
       "    </tbody></table>"
      ],
      "text/plain": [
       "<pandas.io.formats.style.Styler at 0x1cef0389470>"
      ]
     },
     "execution_count": 33,
     "metadata": {},
     "output_type": "execute_result"
    }
   ],
   "source": [
    "gender_df=pd.DataFrame(gender_dicts)\n",
    "gender_format_dict = {'Percent of whole': '{:.2%}'}\n",
    "\n",
    "#gender_df.set_index('Gender')\n",
    "gender_df.set_index('Gender').style.format(gender_format_dict)"
   ]
  },
  {
   "cell_type": "code",
   "execution_count": 34,
   "metadata": {},
   "outputs": [
    {
     "data": {
      "text/html": [
       "<style  type=\"text/css\" >\n",
       "</style><table id=\"T_e18a4528_0022_11eb_b1a3_14f6d870f539\" ><thead>    <tr>        <th class=\"col_heading level0 col0\" >Gender</th>        <th class=\"col_heading level0 col1\" >Purchase Count</th>        <th class=\"col_heading level0 col2\" >Average Purchase Price</th>        <th class=\"col_heading level0 col3\" >Total Purchase Value</th>        <th class=\"col_heading level0 col4\" >Avg Total Purchase per Person</th>    </tr></thead><tbody>\n",
       "                <tr>\n",
       "                                <td id=\"T_e18a4528_0022_11eb_b1a3_14f6d870f539row0_col0\" class=\"data row0 col0\" >Male</td>\n",
       "                        <td id=\"T_e18a4528_0022_11eb_b1a3_14f6d870f539row0_col1\" class=\"data row0 col1\" >652</td>\n",
       "                        <td id=\"T_e18a4528_0022_11eb_b1a3_14f6d870f539row0_col2\" class=\"data row0 col2\" >$3.02</td>\n",
       "                        <td id=\"T_e18a4528_0022_11eb_b1a3_14f6d870f539row0_col3\" class=\"data row0 col3\" >$1,967.64</td>\n",
       "                        <td id=\"T_e18a4528_0022_11eb_b1a3_14f6d870f539row0_col4\" class=\"data row0 col4\" >$4.07</td>\n",
       "            </tr>\n",
       "            <tr>\n",
       "                                <td id=\"T_e18a4528_0022_11eb_b1a3_14f6d870f539row1_col0\" class=\"data row1 col0\" >Female</td>\n",
       "                        <td id=\"T_e18a4528_0022_11eb_b1a3_14f6d870f539row1_col1\" class=\"data row1 col1\" >113</td>\n",
       "                        <td id=\"T_e18a4528_0022_11eb_b1a3_14f6d870f539row1_col2\" class=\"data row1 col2\" >$3.20</td>\n",
       "                        <td id=\"T_e18a4528_0022_11eb_b1a3_14f6d870f539row1_col3\" class=\"data row1 col3\" >$361.94</td>\n",
       "                        <td id=\"T_e18a4528_0022_11eb_b1a3_14f6d870f539row1_col4\" class=\"data row1 col4\" >$4.47</td>\n",
       "            </tr>\n",
       "            <tr>\n",
       "                                <td id=\"T_e18a4528_0022_11eb_b1a3_14f6d870f539row2_col0\" class=\"data row2 col0\" >Other</td>\n",
       "                        <td id=\"T_e18a4528_0022_11eb_b1a3_14f6d870f539row2_col1\" class=\"data row2 col1\" >15</td>\n",
       "                        <td id=\"T_e18a4528_0022_11eb_b1a3_14f6d870f539row2_col2\" class=\"data row2 col2\" >$4.56</td>\n",
       "                        <td id=\"T_e18a4528_0022_11eb_b1a3_14f6d870f539row2_col3\" class=\"data row2 col3\" >$50.19</td>\n",
       "                        <td id=\"T_e18a4528_0022_11eb_b1a3_14f6d870f539row2_col4\" class=\"data row2 col4\" >$4.56</td>\n",
       "            </tr>\n",
       "    </tbody></table>"
      ],
      "text/plain": [
       "<pandas.io.formats.style.Styler at 0x1cef13e78d0>"
      ]
     },
     "execution_count": 34,
     "metadata": {},
     "output_type": "execute_result"
    }
   ],
   "source": [
    "# Purchasing Analysis (Gender)\n",
    "gender_puchase_df = {\n",
    "        \"Gender\" : [\"Male\", \"Female\", \"Other\"],\n",
    "        \"Purchase Count\"  : [tot_male_purcnt, tot_female_purcnt, tot_other_purcnt],\n",
    "        \"Average Purchase Price\" : [ave_price_male, ave_price_female, ave_purchase_tot_other],\n",
    "        \"Total Purchase Value\" : [tot_male_val, tot_female_val,tot_other_val],\n",
    "        \"Avg Total Purchase per Person\":[ave_purchase_tot_mal, ave_purchase_tot_fem,ave_purchase_tot_other]\n",
    "    } \n",
    "\n",
    "purchase_table=pd.DataFrame(gender_puchase_df)\n",
    "format_dict = {'Average Purchase Price':'${0:,.2f}','Total Purchase Value':'${0:,.2f}','Avg Total Purchase per Person': '${0:,.2f}'}\n",
    "purchase_table.style.format(format_dict).hide_index()"
   ]
  },
  {
   "cell_type": "code",
   "execution_count": 35,
   "metadata": {},
   "outputs": [],
   "source": [
    "# create bins\n",
    "bins = [0, 9.9, 14.9, 19.9, 24.9, 29.9, 34.9, 39.9, 1000]\n",
    "bin_names=['<10','10-14','15-19','20-24','25-29','30-34','35-39','40+']"
   ]
  },
  {
   "cell_type": "code",
   "execution_count": 36,
   "metadata": {},
   "outputs": [
    {
     "data": {
      "text/html": [
       "<div>\n",
       "<style scoped>\n",
       "    .dataframe tbody tr th:only-of-type {\n",
       "        vertical-align: middle;\n",
       "    }\n",
       "\n",
       "    .dataframe tbody tr th {\n",
       "        vertical-align: top;\n",
       "    }\n",
       "\n",
       "    .dataframe thead th {\n",
       "        text-align: right;\n",
       "    }\n",
       "</style>\n",
       "<table border=\"1\" class=\"dataframe\">\n",
       "  <thead>\n",
       "    <tr style=\"text-align: right;\">\n",
       "      <th></th>\n",
       "      <th>Tot Count</th>\n",
       "      <th>Percentage of Players</th>\n",
       "    </tr>\n",
       "    <tr>\n",
       "      <th>Age Bin</th>\n",
       "      <th></th>\n",
       "      <th></th>\n",
       "    </tr>\n",
       "  </thead>\n",
       "  <tbody>\n",
       "    <tr>\n",
       "      <th>&lt;10</th>\n",
       "      <td>17</td>\n",
       "      <td>2.95%</td>\n",
       "    </tr>\n",
       "    <tr>\n",
       "      <th>10-14</th>\n",
       "      <td>22</td>\n",
       "      <td>3.82%</td>\n",
       "    </tr>\n",
       "    <tr>\n",
       "      <th>15-19</th>\n",
       "      <td>107</td>\n",
       "      <td>18.58%</td>\n",
       "    </tr>\n",
       "    <tr>\n",
       "      <th>20-24</th>\n",
       "      <td>258</td>\n",
       "      <td>44.79%</td>\n",
       "    </tr>\n",
       "    <tr>\n",
       "      <th>25-29</th>\n",
       "      <td>77</td>\n",
       "      <td>13.37%</td>\n",
       "    </tr>\n",
       "    <tr>\n",
       "      <th>30-34</th>\n",
       "      <td>52</td>\n",
       "      <td>9.03%</td>\n",
       "    </tr>\n",
       "    <tr>\n",
       "      <th>35-39</th>\n",
       "      <td>31</td>\n",
       "      <td>5.38%</td>\n",
       "    </tr>\n",
       "    <tr>\n",
       "      <th>40+</th>\n",
       "      <td>12</td>\n",
       "      <td>2.08%</td>\n",
       "    </tr>\n",
       "  </tbody>\n",
       "</table>\n",
       "</div>"
      ],
      "text/plain": [
       "         Tot Count Percentage of Players\n",
       "Age Bin                                 \n",
       "<10             17                 2.95%\n",
       "10-14           22                 3.82%\n",
       "15-19          107                18.58%\n",
       "20-24          258                44.79%\n",
       "25-29           77                13.37%\n",
       "30-34           52                 9.03%\n",
       "35-39           31                 5.38%\n",
       "40+             12                 2.08%"
      ]
     },
     "execution_count": 36,
     "metadata": {},
     "output_type": "execute_result"
    }
   ],
   "source": [
    "# building player age dataframe\n",
    "unique_players = game_df[['SN','Age']]\n",
    "\n",
    "unique_play_df= pd.DataFrame(unique_players)\n",
    "\n",
    "unique_play_df['Age Bin']= pd.cut(unique_play_df['Age'], bins, labels=bin_names)                        \n",
    "\n",
    "#group by the age bin labels\n",
    "unique_play_df = unique_play_df.groupby('Age Bin')\n",
    "\n",
    "#get unique players per group\n",
    "count_t = unique_play_df['SN'].nunique()\n",
    "\n",
    "#calc percent by group\n",
    "per_t= count_t/player_count\n",
    "\n",
    "#create new DF\n",
    "age_demo_df = pd.DataFrame({\"Tot Count\" : count_t, \"Percentage of Players\" : per_t})\n",
    "\n",
    "#mapping format to Percentage column in dataframe\n",
    "age_demo_df[\"Percentage of Players\"] = age_demo_df[\"Percentage of Players\"].map(\"{:.2%}\".format)\n",
    "\n",
    "age_demo_df\n",
    "\n",
    "\n",
    "\n",
    "\n",
    "\n"
   ]
  },
  {
   "cell_type": "code",
   "execution_count": 37,
   "metadata": {},
   "outputs": [
    {
     "data": {
      "text/html": [
       "<div>\n",
       "<style scoped>\n",
       "    .dataframe tbody tr th:only-of-type {\n",
       "        vertical-align: middle;\n",
       "    }\n",
       "\n",
       "    .dataframe tbody tr th {\n",
       "        vertical-align: top;\n",
       "    }\n",
       "\n",
       "    .dataframe thead th {\n",
       "        text-align: right;\n",
       "    }\n",
       "</style>\n",
       "<table border=\"1\" class=\"dataframe\">\n",
       "  <thead>\n",
       "    <tr style=\"text-align: right;\">\n",
       "      <th></th>\n",
       "      <th>Purchase Count</th>\n",
       "      <th>Unique people</th>\n",
       "      <th>Average Purchase Price</th>\n",
       "      <th>Total Purchase Value</th>\n",
       "      <th>Avg Total Purchase per Person</th>\n",
       "    </tr>\n",
       "    <tr>\n",
       "      <th>Age Bin</th>\n",
       "      <th></th>\n",
       "      <th></th>\n",
       "      <th></th>\n",
       "      <th></th>\n",
       "      <th></th>\n",
       "    </tr>\n",
       "  </thead>\n",
       "  <tbody>\n",
       "    <tr>\n",
       "      <th>&lt;10</th>\n",
       "      <td>23</td>\n",
       "      <td>17</td>\n",
       "      <td>$3.35</td>\n",
       "      <td>$77.13</td>\n",
       "      <td>$4.54</td>\n",
       "    </tr>\n",
       "    <tr>\n",
       "      <th>10-14</th>\n",
       "      <td>28</td>\n",
       "      <td>22</td>\n",
       "      <td>$2.96</td>\n",
       "      <td>$82.78</td>\n",
       "      <td>$3.76</td>\n",
       "    </tr>\n",
       "    <tr>\n",
       "      <th>15-19</th>\n",
       "      <td>136</td>\n",
       "      <td>107</td>\n",
       "      <td>$3.04</td>\n",
       "      <td>$412.89</td>\n",
       "      <td>$3.86</td>\n",
       "    </tr>\n",
       "    <tr>\n",
       "      <th>20-24</th>\n",
       "      <td>365</td>\n",
       "      <td>258</td>\n",
       "      <td>$3.05</td>\n",
       "      <td>$1114.06</td>\n",
       "      <td>$4.32</td>\n",
       "    </tr>\n",
       "    <tr>\n",
       "      <th>25-29</th>\n",
       "      <td>101</td>\n",
       "      <td>77</td>\n",
       "      <td>$2.90</td>\n",
       "      <td>$293.00</td>\n",
       "      <td>$3.81</td>\n",
       "    </tr>\n",
       "    <tr>\n",
       "      <th>30-34</th>\n",
       "      <td>73</td>\n",
       "      <td>52</td>\n",
       "      <td>$2.93</td>\n",
       "      <td>$214.00</td>\n",
       "      <td>$4.12</td>\n",
       "    </tr>\n",
       "    <tr>\n",
       "      <th>35-39</th>\n",
       "      <td>41</td>\n",
       "      <td>31</td>\n",
       "      <td>$3.60</td>\n",
       "      <td>$147.67</td>\n",
       "      <td>$4.76</td>\n",
       "    </tr>\n",
       "    <tr>\n",
       "      <th>40+</th>\n",
       "      <td>13</td>\n",
       "      <td>12</td>\n",
       "      <td>$2.94</td>\n",
       "      <td>$38.24</td>\n",
       "      <td>$3.19</td>\n",
       "    </tr>\n",
       "  </tbody>\n",
       "</table>\n",
       "</div>"
      ],
      "text/plain": [
       "         Purchase Count  Unique people Average Purchase Price  \\\n",
       "Age Bin                                                         \n",
       "<10                  23             17                  $3.35   \n",
       "10-14                28             22                  $2.96   \n",
       "15-19               136            107                  $3.04   \n",
       "20-24               365            258                  $3.05   \n",
       "25-29               101             77                  $2.90   \n",
       "30-34                73             52                  $2.93   \n",
       "35-39                41             31                  $3.60   \n",
       "40+                  13             12                  $2.94   \n",
       "\n",
       "        Total Purchase Value Avg Total Purchase per Person  \n",
       "Age Bin                                                     \n",
       "<10                   $77.13                         $4.54  \n",
       "10-14                 $82.78                         $3.76  \n",
       "15-19                $412.89                         $3.86  \n",
       "20-24               $1114.06                         $4.32  \n",
       "25-29                $293.00                         $3.81  \n",
       "30-34                $214.00                         $4.12  \n",
       "35-39                $147.67                         $4.76  \n",
       "40+                   $38.24                         $3.19  "
      ]
     },
     "execution_count": 37,
     "metadata": {},
     "output_type": "execute_result"
    }
   ],
   "source": [
    "# purchase analysis by AGE\n",
    "# use prior DF unique_play_df\n",
    "\n",
    "pur_table = game_df[['SN','Age', 'Item ID', 'Item Name', 'Price']]\n",
    "\n",
    "pur_table_df= pd.DataFrame(pur_table)\n",
    "\n",
    "pur_table_df['Age Bin']= pd.cut(pur_table_df['Age'], bins, labels=bin_names)                        \n",
    "\n",
    "#group by the age bin labels\n",
    "pur_table_df = pur_table_df.groupby('Age Bin')\n",
    "\n",
    "#calculations (adding in unique people per bin)\n",
    "\n",
    "age_pur_cnt = pur_table_df['Item ID'].count()\n",
    "\n",
    "age_ave_price = pur_table_df['Price'].mean()\n",
    "\n",
    "tot_spend = pur_table_df['Price'].sum()\n",
    "\n",
    "ave_spend_per = tot_spend/count_t\n",
    "\n",
    "#create new DF\n",
    "age_pur_tab_df = pd.DataFrame(\n",
    "    {\"Purchase Count\" : age_pur_cnt, \n",
    "     \"Unique people\" : count_t,\n",
    "     \"Average Purchase Price\" : age_ave_price,\n",
    "     \"Total Purchase Value\": tot_spend,\n",
    "     \"Avg Total Purchase per Person\": ave_spend_per}\n",
    "    )\n",
    "\n",
    "#mapping format in dataframe\n",
    "age_pur_tab_df[\"Average Purchase Price\"] = age_pur_tab_df[\"Average Purchase Price\"].map(\"${:.2f}\".format)\n",
    "age_pur_tab_df[\"Total Purchase Value\"] = age_pur_tab_df[\"Total Purchase Value\"].map(\"${:.2f}\".format)\n",
    "age_pur_tab_df[\"Avg Total Purchase per Person\"] = age_pur_tab_df[\"Avg Total Purchase per Person\"].map(\"${:.2f}\".format)   \n",
    "\n",
    "age_pur_tab_df                                                                                                      \n",
    "                                                                                                      "
   ]
  },
  {
   "cell_type": "code",
   "execution_count": 38,
   "metadata": {},
   "outputs": [
    {
     "data": {
      "text/html": [
       "<div>\n",
       "<style scoped>\n",
       "    .dataframe tbody tr th:only-of-type {\n",
       "        vertical-align: middle;\n",
       "    }\n",
       "\n",
       "    .dataframe tbody tr th {\n",
       "        vertical-align: top;\n",
       "    }\n",
       "\n",
       "    .dataframe thead th {\n",
       "        text-align: right;\n",
       "    }\n",
       "</style>\n",
       "<table border=\"1\" class=\"dataframe\">\n",
       "  <thead>\n",
       "    <tr style=\"text-align: right;\">\n",
       "      <th></th>\n",
       "      <th>Purchase Count</th>\n",
       "      <th>Average Purchase Price</th>\n",
       "      <th>Total Purchase Value</th>\n",
       "    </tr>\n",
       "    <tr>\n",
       "      <th>SN</th>\n",
       "      <th></th>\n",
       "      <th></th>\n",
       "      <th></th>\n",
       "    </tr>\n",
       "  </thead>\n",
       "  <tbody>\n",
       "    <tr>\n",
       "      <th>Lisosia93</th>\n",
       "      <td>5</td>\n",
       "      <td>$3.79</td>\n",
       "      <td>18.96</td>\n",
       "    </tr>\n",
       "    <tr>\n",
       "      <th>Idastidru52</th>\n",
       "      <td>4</td>\n",
       "      <td>$3.86</td>\n",
       "      <td>15.45</td>\n",
       "    </tr>\n",
       "    <tr>\n",
       "      <th>Chamjask73</th>\n",
       "      <td>3</td>\n",
       "      <td>$4.61</td>\n",
       "      <td>13.83</td>\n",
       "    </tr>\n",
       "    <tr>\n",
       "      <th>Iral74</th>\n",
       "      <td>4</td>\n",
       "      <td>$3.40</td>\n",
       "      <td>13.62</td>\n",
       "    </tr>\n",
       "    <tr>\n",
       "      <th>Iskadarya95</th>\n",
       "      <td>3</td>\n",
       "      <td>$4.37</td>\n",
       "      <td>13.10</td>\n",
       "    </tr>\n",
       "    <tr>\n",
       "      <th>...</th>\n",
       "      <td>...</td>\n",
       "      <td>...</td>\n",
       "      <td>...</td>\n",
       "    </tr>\n",
       "    <tr>\n",
       "      <th>Ililsasya43</th>\n",
       "      <td>1</td>\n",
       "      <td>$1.02</td>\n",
       "      <td>1.02</td>\n",
       "    </tr>\n",
       "    <tr>\n",
       "      <th>Irilis75</th>\n",
       "      <td>1</td>\n",
       "      <td>$1.02</td>\n",
       "      <td>1.02</td>\n",
       "    </tr>\n",
       "    <tr>\n",
       "      <th>Aidai61</th>\n",
       "      <td>1</td>\n",
       "      <td>$1.01</td>\n",
       "      <td>1.01</td>\n",
       "    </tr>\n",
       "    <tr>\n",
       "      <th>Chanirra79</th>\n",
       "      <td>1</td>\n",
       "      <td>$1.01</td>\n",
       "      <td>1.01</td>\n",
       "    </tr>\n",
       "    <tr>\n",
       "      <th>Alo38</th>\n",
       "      <td>1</td>\n",
       "      <td>$1.00</td>\n",
       "      <td>1.00</td>\n",
       "    </tr>\n",
       "  </tbody>\n",
       "</table>\n",
       "<p>576 rows × 3 columns</p>\n",
       "</div>"
      ],
      "text/plain": [
       "             Purchase Count Average Purchase Price  Total Purchase Value\n",
       "SN                                                                      \n",
       "Lisosia93                 5                  $3.79                 18.96\n",
       "Idastidru52               4                  $3.86                 15.45\n",
       "Chamjask73                3                  $4.61                 13.83\n",
       "Iral74                    4                  $3.40                 13.62\n",
       "Iskadarya95               3                  $4.37                 13.10\n",
       "...                     ...                    ...                   ...\n",
       "Ililsasya43               1                  $1.02                  1.02\n",
       "Irilis75                  1                  $1.02                  1.02\n",
       "Aidai61                   1                  $1.01                  1.01\n",
       "Chanirra79                1                  $1.01                  1.01\n",
       "Alo38                     1                  $1.00                  1.00\n",
       "\n",
       "[576 rows x 3 columns]"
      ]
     },
     "execution_count": 38,
     "metadata": {},
     "output_type": "execute_result"
    }
   ],
   "source": [
    "# Top spenders\n",
    "\n",
    "top_spenders =  game_df[['SN', 'Item ID', 'Item Name', 'Price']]\n",
    "\n",
    "spenders_table_df= pd.DataFrame(top_spenders)\n",
    "\n",
    "#group by the Name\n",
    "pur_table_df = spenders_table_df.groupby('SN')\n",
    "\n",
    "items_purch = pur_table_df['Item ID'].count()\n",
    "\n",
    "ave_pur_price = pur_table_df['Price'].mean()\n",
    "\n",
    "tot_spend_value = pur_table_df['Price'].sum()\n",
    "\n",
    "#create new DF\n",
    "spend_table= pd.DataFrame(\n",
    "    {\"Purchase Count\" : items_purch, \n",
    "     \"Average Purchase Price\" : ave_pur_price,\n",
    "     \"Total Purchase Value\": tot_spend_value})\n",
    "\n",
    "#mapping format in dataframe\n",
    "spend_table[\"Average Purchase Price\"] = spend_table[\"Average Purchase Price\"].map(\"${:.2f}\".format)\n",
    "#spend_table[\"Total Purchase Value\"] = spend_table[\"Total Purchase Value\"].map(\"${:.2f}\".format)\n",
    "\n",
    "#sort dataframe by total purchase value\n",
    "spend_table.sort_values(\"Total Purchase Value\", ascending=False)\n"
   ]
  },
  {
   "cell_type": "code",
   "execution_count": 39,
   "metadata": {},
   "outputs": [
    {
     "data": {
      "text/html": [
       "<div>\n",
       "<style scoped>\n",
       "    .dataframe tbody tr th:only-of-type {\n",
       "        vertical-align: middle;\n",
       "    }\n",
       "\n",
       "    .dataframe tbody tr th {\n",
       "        vertical-align: top;\n",
       "    }\n",
       "\n",
       "    .dataframe thead th {\n",
       "        text-align: right;\n",
       "    }\n",
       "</style>\n",
       "<table border=\"1\" class=\"dataframe\">\n",
       "  <thead>\n",
       "    <tr style=\"text-align: right;\">\n",
       "      <th></th>\n",
       "      <th></th>\n",
       "      <th>Purchase Count</th>\n",
       "      <th>Item Price</th>\n",
       "      <th>Total Purchase Value</th>\n",
       "    </tr>\n",
       "    <tr>\n",
       "      <th>Item ID</th>\n",
       "      <th>Item Name</th>\n",
       "      <th></th>\n",
       "      <th></th>\n",
       "      <th></th>\n",
       "    </tr>\n",
       "  </thead>\n",
       "  <tbody>\n",
       "    <tr>\n",
       "      <th>92</th>\n",
       "      <th>Final Critic</th>\n",
       "      <td>13</td>\n",
       "      <td>$4.61</td>\n",
       "      <td>$59.99</td>\n",
       "    </tr>\n",
       "    <tr>\n",
       "      <th>178</th>\n",
       "      <th>Oathbreaker, Last Hope of the Breaking Storm</th>\n",
       "      <td>12</td>\n",
       "      <td>$4.23</td>\n",
       "      <td>$50.76</td>\n",
       "    </tr>\n",
       "    <tr>\n",
       "      <th>145</th>\n",
       "      <th>Fiery Glass Crusader</th>\n",
       "      <td>9</td>\n",
       "      <td>$4.58</td>\n",
       "      <td>$41.22</td>\n",
       "    </tr>\n",
       "    <tr>\n",
       "      <th>132</th>\n",
       "      <th>Persuasion</th>\n",
       "      <td>9</td>\n",
       "      <td>$3.22</td>\n",
       "      <td>$28.99</td>\n",
       "    </tr>\n",
       "    <tr>\n",
       "      <th>108</th>\n",
       "      <th>Extraction, Quickblade Of Trembling Hands</th>\n",
       "      <td>9</td>\n",
       "      <td>$3.53</td>\n",
       "      <td>$31.77</td>\n",
       "    </tr>\n",
       "    <tr>\n",
       "      <th>...</th>\n",
       "      <th>...</th>\n",
       "      <td>...</td>\n",
       "      <td>...</td>\n",
       "      <td>...</td>\n",
       "    </tr>\n",
       "    <tr>\n",
       "      <th>42</th>\n",
       "      <th>The Decapitator</th>\n",
       "      <td>1</td>\n",
       "      <td>$1.75</td>\n",
       "      <td>$1.75</td>\n",
       "    </tr>\n",
       "    <tr>\n",
       "      <th>51</th>\n",
       "      <th>Endbringer</th>\n",
       "      <td>1</td>\n",
       "      <td>$4.66</td>\n",
       "      <td>$4.66</td>\n",
       "    </tr>\n",
       "    <tr>\n",
       "      <th>118</th>\n",
       "      <th>Ghost Reaver, Longsword of Magic</th>\n",
       "      <td>1</td>\n",
       "      <td>$2.17</td>\n",
       "      <td>$2.17</td>\n",
       "    </tr>\n",
       "    <tr>\n",
       "      <th>104</th>\n",
       "      <th>Gladiator's Glaive</th>\n",
       "      <td>1</td>\n",
       "      <td>$1.93</td>\n",
       "      <td>$1.93</td>\n",
       "    </tr>\n",
       "    <tr>\n",
       "      <th>91</th>\n",
       "      <th>Celeste</th>\n",
       "      <td>1</td>\n",
       "      <td>$4.17</td>\n",
       "      <td>$4.17</td>\n",
       "    </tr>\n",
       "  </tbody>\n",
       "</table>\n",
       "<p>179 rows × 3 columns</p>\n",
       "</div>"
      ],
      "text/plain": [
       "                                                      Purchase Count  \\\n",
       "Item ID Item Name                                                      \n",
       "92      Final Critic                                              13   \n",
       "178     Oathbreaker, Last Hope of the Breaking Storm              12   \n",
       "145     Fiery Glass Crusader                                       9   \n",
       "132     Persuasion                                                 9   \n",
       "108     Extraction, Quickblade Of Trembling Hands                  9   \n",
       "...                                                              ...   \n",
       "42      The Decapitator                                            1   \n",
       "51      Endbringer                                                 1   \n",
       "118     Ghost Reaver, Longsword of Magic                           1   \n",
       "104     Gladiator's Glaive                                         1   \n",
       "91      Celeste                                                    1   \n",
       "\n",
       "                                                     Item Price  \\\n",
       "Item ID Item Name                                                 \n",
       "92      Final Critic                                      $4.61   \n",
       "178     Oathbreaker, Last Hope of the Breaking Storm      $4.23   \n",
       "145     Fiery Glass Crusader                              $4.58   \n",
       "132     Persuasion                                        $3.22   \n",
       "108     Extraction, Quickblade Of Trembling Hands         $3.53   \n",
       "...                                                         ...   \n",
       "42      The Decapitator                                   $1.75   \n",
       "51      Endbringer                                        $4.66   \n",
       "118     Ghost Reaver, Longsword of Magic                  $2.17   \n",
       "104     Gladiator's Glaive                                $1.93   \n",
       "91      Celeste                                           $4.17   \n",
       "\n",
       "                                                     Total Purchase Value  \n",
       "Item ID Item Name                                                          \n",
       "92      Final Critic                                               $59.99  \n",
       "178     Oathbreaker, Last Hope of the Breaking Storm               $50.76  \n",
       "145     Fiery Glass Crusader                                       $41.22  \n",
       "132     Persuasion                                                 $28.99  \n",
       "108     Extraction, Quickblade Of Trembling Hands                  $31.77  \n",
       "...                                                                   ...  \n",
       "42      The Decapitator                                             $1.75  \n",
       "51      Endbringer                                                  $4.66  \n",
       "118     Ghost Reaver, Longsword of Magic                            $2.17  \n",
       "104     Gladiator's Glaive                                          $1.93  \n",
       "91      Celeste                                                     $4.17  \n",
       "\n",
       "[179 rows x 3 columns]"
      ]
     },
     "execution_count": 39,
     "metadata": {},
     "output_type": "execute_result"
    }
   ],
   "source": [
    "# Most popular Items\n",
    "\n",
    "top_items =  game_df[['Item ID', 'Item Name', 'Price']]\n",
    "\n",
    "top_items_df= pd.DataFrame(top_items)\n",
    "                      \n",
    "#group by the Item ID and Item Name\n",
    "item_table_df = top_items_df.groupby(['Item ID', 'Item Name'])\n",
    "                      \n",
    "item_quant = item_table_df['Item ID'].count()\n",
    "\n",
    "item_ave_price = item_table_df['Price'].mean()\n",
    "\n",
    "item_tot_spend = item_table_df['Price'].sum()\n",
    "\n",
    "# create new DF\n",
    "spend_table= pd.DataFrame(\n",
    "     {\"Purchase Count\" : item_quant, \n",
    "      \"Item Price\" : item_ave_price,\n",
    "      \"Total Purchase Value\": item_tot_spend})\n",
    "\n",
    "# mapping format in dataframe\n",
    "spend_table[\"Total Purchase Value\"] = spend_table[\"Total Purchase Value\"].map(\"${:.2f}\".format)\n",
    "spend_table[\"Item Price\"] = spend_table[\"Item Price\"].map(\"${:.2f}\".format)\n",
    "\n",
    "\n",
    "# sort dataframe by total purchase value\n",
    "spend_table.sort_values(\"Purchase Count\", ascending=False)"
   ]
  },
  {
   "cell_type": "code",
   "execution_count": 52,
   "metadata": {},
   "outputs": [
    {
     "data": {
      "text/html": [
       "<div>\n",
       "<style scoped>\n",
       "    .dataframe tbody tr th:only-of-type {\n",
       "        vertical-align: middle;\n",
       "    }\n",
       "\n",
       "    .dataframe tbody tr th {\n",
       "        vertical-align: top;\n",
       "    }\n",
       "\n",
       "    .dataframe thead th {\n",
       "        text-align: right;\n",
       "    }\n",
       "</style>\n",
       "<table border=\"1\" class=\"dataframe\">\n",
       "  <thead>\n",
       "    <tr style=\"text-align: right;\">\n",
       "      <th></th>\n",
       "      <th></th>\n",
       "      <th>Purchase Count</th>\n",
       "      <th>Item Price</th>\n",
       "      <th>Total Purchase Value</th>\n",
       "    </tr>\n",
       "    <tr>\n",
       "      <th>Item ID</th>\n",
       "      <th>Item Name</th>\n",
       "      <th></th>\n",
       "      <th></th>\n",
       "      <th></th>\n",
       "    </tr>\n",
       "  </thead>\n",
       "  <tbody>\n",
       "    <tr>\n",
       "      <th>92</th>\n",
       "      <th>Final Critic</th>\n",
       "      <td>13</td>\n",
       "      <td>$4.61</td>\n",
       "      <td>$59.99</td>\n",
       "    </tr>\n",
       "    <tr>\n",
       "      <th>178</th>\n",
       "      <th>Oathbreaker, Last Hope of the Breaking Storm</th>\n",
       "      <td>12</td>\n",
       "      <td>$4.23</td>\n",
       "      <td>$50.76</td>\n",
       "    </tr>\n",
       "    <tr>\n",
       "      <th>82</th>\n",
       "      <th>Nirvana</th>\n",
       "      <td>9</td>\n",
       "      <td>$4.90</td>\n",
       "      <td>$44.10</td>\n",
       "    </tr>\n",
       "    <tr>\n",
       "      <th>145</th>\n",
       "      <th>Fiery Glass Crusader</th>\n",
       "      <td>9</td>\n",
       "      <td>$4.58</td>\n",
       "      <td>$41.22</td>\n",
       "    </tr>\n",
       "    <tr>\n",
       "      <th>103</th>\n",
       "      <th>Singed Scalpel</th>\n",
       "      <td>8</td>\n",
       "      <td>$4.35</td>\n",
       "      <td>$34.80</td>\n",
       "    </tr>\n",
       "    <tr>\n",
       "      <th>...</th>\n",
       "      <th>...</th>\n",
       "      <td>...</td>\n",
       "      <td>...</td>\n",
       "      <td>...</td>\n",
       "    </tr>\n",
       "    <tr>\n",
       "      <th>28</th>\n",
       "      <th>Flux, Destroyer of Due Diligence</th>\n",
       "      <td>2</td>\n",
       "      <td>$1.06</td>\n",
       "      <td>$2.12</td>\n",
       "    </tr>\n",
       "    <tr>\n",
       "      <th>125</th>\n",
       "      <th>Whistling Mithril Warblade</th>\n",
       "      <td>2</td>\n",
       "      <td>$1.00</td>\n",
       "      <td>$2.00</td>\n",
       "    </tr>\n",
       "    <tr>\n",
       "      <th>126</th>\n",
       "      <th>Exiled Mithril Longsword</th>\n",
       "      <td>1</td>\n",
       "      <td>$2.00</td>\n",
       "      <td>$2.00</td>\n",
       "    </tr>\n",
       "    <tr>\n",
       "      <th>104</th>\n",
       "      <th>Gladiator's Glaive</th>\n",
       "      <td>1</td>\n",
       "      <td>$1.93</td>\n",
       "      <td>$1.93</td>\n",
       "    </tr>\n",
       "    <tr>\n",
       "      <th>42</th>\n",
       "      <th>The Decapitator</th>\n",
       "      <td>1</td>\n",
       "      <td>$1.75</td>\n",
       "      <td>$1.75</td>\n",
       "    </tr>\n",
       "  </tbody>\n",
       "</table>\n",
       "<p>179 rows × 3 columns</p>\n",
       "</div>"
      ],
      "text/plain": [
       "                                                      Purchase Count  \\\n",
       "Item ID Item Name                                                      \n",
       "92      Final Critic                                              13   \n",
       "178     Oathbreaker, Last Hope of the Breaking Storm              12   \n",
       "82      Nirvana                                                    9   \n",
       "145     Fiery Glass Crusader                                       9   \n",
       "103     Singed Scalpel                                             8   \n",
       "...                                                              ...   \n",
       "28      Flux, Destroyer of Due Diligence                           2   \n",
       "125     Whistling Mithril Warblade                                 2   \n",
       "126     Exiled Mithril Longsword                                   1   \n",
       "104     Gladiator's Glaive                                         1   \n",
       "42      The Decapitator                                            1   \n",
       "\n",
       "                                                     Item Price  \\\n",
       "Item ID Item Name                                                 \n",
       "92      Final Critic                                      $4.61   \n",
       "178     Oathbreaker, Last Hope of the Breaking Storm      $4.23   \n",
       "82      Nirvana                                           $4.90   \n",
       "145     Fiery Glass Crusader                              $4.58   \n",
       "103     Singed Scalpel                                    $4.35   \n",
       "...                                                         ...   \n",
       "28      Flux, Destroyer of Due Diligence                  $1.06   \n",
       "125     Whistling Mithril Warblade                        $1.00   \n",
       "126     Exiled Mithril Longsword                          $2.00   \n",
       "104     Gladiator's Glaive                                $1.93   \n",
       "42      The Decapitator                                   $1.75   \n",
       "\n",
       "                                                     Total Purchase Value  \n",
       "Item ID Item Name                                                          \n",
       "92      Final Critic                                               $59.99  \n",
       "178     Oathbreaker, Last Hope of the Breaking Storm               $50.76  \n",
       "82      Nirvana                                                    $44.10  \n",
       "145     Fiery Glass Crusader                                       $41.22  \n",
       "103     Singed Scalpel                                             $34.80  \n",
       "...                                                                   ...  \n",
       "28      Flux, Destroyer of Due Diligence                            $2.12  \n",
       "125     Whistling Mithril Warblade                                  $2.00  \n",
       "126     Exiled Mithril Longsword                                    $2.00  \n",
       "104     Gladiator's Glaive                                          $1.93  \n",
       "42      The Decapitator                                             $1.75  \n",
       "\n",
       "[179 rows x 3 columns]"
      ]
     },
     "execution_count": 52,
     "metadata": {},
     "output_type": "execute_result"
    }
   ],
   "source": [
    "# Most profitable Items\n",
    "\n",
    "profit_table= pd.DataFrame(\n",
    "     {\"Purchase Count\" : item_quant, \n",
    "      \"Item Price\" : item_ave_price,\n",
    "      \"Total Purchase Value\": item_tot_spend})\n",
    "\n",
    "# sort dataframe by total purchase value\n",
    "profit_table= profit_table.sort_values(\"Total Purchase Value\", ascending=False)\n",
    "\n",
    "# mapping format in dataframe\n",
    "profit_table[\"Item Price\"]=profit_table[\"Item Price\"].astype(float).map(\"${:.2f}\".format)\n",
    "profit_table[\"Total Purchase Value\"]=profit_table[\"Total Purchase Value\"].astype(float).map(\"${:.2f}\".format)\n",
    "\n",
    "profit_table"
   ]
  },
  {
   "cell_type": "code",
   "execution_count": null,
   "metadata": {},
   "outputs": [],
   "source": []
  }
 ],
 "metadata": {
  "kernelspec": {
   "display_name": "Python [conda env:PythonData]",
   "language": "python",
   "name": "conda-env-PythonData-py"
  },
  "language_info": {
   "codemirror_mode": {
    "name": "ipython",
    "version": 3
   },
   "file_extension": ".py",
   "mimetype": "text/x-python",
   "name": "python",
   "nbconvert_exporter": "python",
   "pygments_lexer": "ipython3",
   "version": "3.6.10"
  }
 },
 "nbformat": 4,
 "nbformat_minor": 4
}
